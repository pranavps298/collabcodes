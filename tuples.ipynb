{
  "nbformat": 4,
  "nbformat_minor": 0,
  "metadata": {
    "colab": {
      "provenance": [],
      "authorship_tag": "ABX9TyM2+oTRM/vH5+GVWiOVB8BU",
      "include_colab_link": true
    },
    "kernelspec": {
      "name": "python3",
      "display_name": "Python 3"
    },
    "language_info": {
      "name": "python"
    }
  },
  "cells": [
    {
      "cell_type": "markdown",
      "metadata": {
        "id": "view-in-github",
        "colab_type": "text"
      },
      "source": [
        "<a href=\"https://colab.research.google.com/github/pranavps298/collabcodes/blob/main/tuples.ipynb\" target=\"_parent\"><img src=\"https://colab.research.google.com/assets/colab-badge.svg\" alt=\"Open In Colab\"/></a>"
      ]
    },
    {
      "cell_type": "code",
      "execution_count": 2,
      "metadata": {
        "colab": {
          "base_uri": "https://localhost:8080/"
        },
        "id": "PwWa6LrayxDI",
        "outputId": "822c6c67-74e0-4fa0-f2c4-d053c5d7f2cd"
      },
      "outputs": [
        {
          "output_type": "stream",
          "name": "stdout",
          "text": [
            "[1, 2, 3, 4, 5]\n"
          ]
        }
      ],
      "source": [
        "tuple1=(i for i in range(1,6))\n",
        "tuple2=list(tuple1)\n",
        "print(tuple2)"
      ]
    },
    {
      "cell_type": "code",
      "source": [
        "print(tuple1)"
      ],
      "metadata": {
        "colab": {
          "base_uri": "https://localhost:8080/"
        },
        "id": "hXIPGYjMzBk6",
        "outputId": "76c39d01-bdda-4616-8313-869a0dc82eb8"
      },
      "execution_count": 3,
      "outputs": [
        {
          "output_type": "stream",
          "name": "stdout",
          "text": [
            "<generator object <genexpr> at 0x79b37c1f49e0>\n"
          ]
        }
      ]
    },
    {
      "cell_type": "code",
      "source": [
        "tuple3=tuple(tuple2)"
      ],
      "metadata": {
        "id": "X4jKWESYzOIu"
      },
      "execution_count": 4,
      "outputs": []
    },
    {
      "cell_type": "code",
      "source": [
        "print(tuple3)"
      ],
      "metadata": {
        "colab": {
          "base_uri": "https://localhost:8080/"
        },
        "id": "_enaWBMAzUrk",
        "outputId": "d22cdffb-916a-45b8-8983-de5966480ace"
      },
      "execution_count": 5,
      "outputs": [
        {
          "output_type": "stream",
          "name": "stdout",
          "text": [
            "(1, 2, 3, 4, 5)\n"
          ]
        }
      ]
    },
    {
      "cell_type": "code",
      "source": [
        "sorted(tuple3)"
      ],
      "metadata": {
        "colab": {
          "base_uri": "https://localhost:8080/"
        },
        "id": "JaEa2tFDzWoe",
        "outputId": "a9ba638c-478f-4dc6-dc42-182dbb50c302"
      },
      "execution_count": 6,
      "outputs": [
        {
          "output_type": "execute_result",
          "data": {
            "text/plain": [
              "[1, 2, 3, 4, 5]"
            ]
          },
          "metadata": {},
          "execution_count": 6
        }
      ]
    },
    {
      "cell_type": "code",
      "source": [
        "print(tuple3[1])"
      ],
      "metadata": {
        "colab": {
          "base_uri": "https://localhost:8080/"
        },
        "id": "SXqgx_vez5IG",
        "outputId": "3c4b210a-5dc7-46f0-adbc-90324de0093c"
      },
      "execution_count": 7,
      "outputs": [
        {
          "output_type": "stream",
          "name": "stdout",
          "text": [
            "2\n"
          ]
        }
      ]
    },
    {
      "cell_type": "code",
      "source": [
        "Dict={\"a\":1,\"b\":25,\"c\":45,\"d\":67,\"e\":56 }\n",
        "List=Dict.values()\n",
        "print(max(List))\n",
        "\n",
        "\n"
      ],
      "metadata": {
        "colab": {
          "base_uri": "https://localhost:8080/"
        },
        "id": "hNP2_2Ge0A3X",
        "outputId": "e622a503-9a95-4a94-e9b1-80dec66c5fab"
      },
      "execution_count": 9,
      "outputs": [
        {
          "output_type": "stream",
          "name": "stdout",
          "text": [
            "67\n"
          ]
        }
      ]
    },
    {
      "cell_type": "code",
      "source": [
        "Dict2={\"f\":1,\"g\":24,\"h\":75,\"i\":97,\"j\":56 }\n",
        "Dict2.update(Dict)\n",
        "print(Dict2)"
      ],
      "metadata": {
        "colab": {
          "base_uri": "https://localhost:8080/"
        },
        "id": "93Tprvgj1eiA",
        "outputId": "e512f418-9d36-4ce5-c4c7-8c1fd58111c4"
      },
      "execution_count": 12,
      "outputs": [
        {
          "output_type": "stream",
          "name": "stdout",
          "text": [
            "{'f': 1, 'g': 24, 'h': 75, 'i': 97, 'j': 56, 'a': 1, 'b': 25, 'c': 45, 'd': 67, 'e': 56}\n"
          ]
        }
      ]
    },
    {
      "cell_type": "code",
      "source": [
        "Set1={i for i in range (1,11)}\n",
        "Set2={i for i in range (1,6)}\n",
        "print(Set1.intersection(Set2))"
      ],
      "metadata": {
        "colab": {
          "base_uri": "https://localhost:8080/"
        },
        "id": "xL-1VlyC3GQV",
        "outputId": "b734c426-522d-4509-fcb2-6769f0b65287"
      },
      "execution_count": 13,
      "outputs": [
        {
          "output_type": "stream",
          "name": "stdout",
          "text": [
            "{1, 2, 3, 4, 5}\n"
          ]
        }
      ]
    },
    {
      "cell_type": "code",
      "source": [
        "print(Set1.union(Set2))"
      ],
      "metadata": {
        "colab": {
          "base_uri": "https://localhost:8080/"
        },
        "id": "MYzu0Fje3vUT",
        "outputId": "ca6ec659-e07e-40a6-a762-8777a3d09995"
      },
      "execution_count": 14,
      "outputs": [
        {
          "output_type": "stream",
          "name": "stdout",
          "text": [
            "{1, 2, 3, 4, 5, 6, 7, 8, 9, 10}\n"
          ]
        }
      ]
    },
    {
      "cell_type": "code",
      "source": [
        "print(Set2.issubset(Set1))\n",
        ""
      ],
      "metadata": {
        "colab": {
          "base_uri": "https://localhost:8080/"
        },
        "id": "ZsDSGf2r3470",
        "outputId": "a18ae8c3-ef91-4b81-a62c-ce124b62bcf7"
      },
      "execution_count": 15,
      "outputs": [
        {
          "output_type": "stream",
          "name": "stdout",
          "text": [
            "True\n"
          ]
        }
      ]
    },
    {
      "cell_type": "code",
      "source": [
        "##String\n",
        "st=input()\n",
        "c=0\n",
        "for i in st :\n",
        "  if i in \"aeiou\":\n",
        "    c+=1\n",
        "print(c)\n",
        "\n"
      ],
      "metadata": {
        "colab": {
          "base_uri": "https://localhost:8080/"
        },
        "id": "e4M_BdSM5j5d",
        "outputId": "c0fe36e1-686d-4521-e792-b91eccc2b647"
      },
      "execution_count": 20,
      "outputs": [
        {
          "output_type": "stream",
          "name": "stdout",
          "text": [
            "jdsvsiuesiubg\n",
            "5\n"
          ]
        }
      ]
    },
    {
      "cell_type": "code",
      "source": [
        "st1=input()\n",
        "if st1==st1[::-1]:\n",
        "  print(\"string is palindrome\")\n",
        "else:\n",
        "  print(\"string is not palindrome\")"
      ],
      "metadata": {
        "colab": {
          "base_uri": "https://localhost:8080/"
        },
        "id": "RlnG_D8D62eP",
        "outputId": "1d77f9cc-117a-4ece-ac0f-69e6cfaffd78"
      },
      "execution_count": 22,
      "outputs": [
        {
          "output_type": "stream",
          "name": "stdout",
          "text": [
            "k.sfjh\n",
            "string is not palindrome\n"
          ]
        }
      ]
    },
    {
      "cell_type": "code",
      "source": [
        "string1=input()\n",
        "print(string1[0:3])\n",
        "print(string1[-3:])\n"
      ],
      "metadata": {
        "colab": {
          "base_uri": "https://localhost:8080/"
        },
        "id": "kX1RWoVh8PAG",
        "outputId": "18203fc8-4cdc-44d0-99ab-7bdef315a27e"
      },
      "execution_count": 31,
      "outputs": [
        {
          "output_type": "stream",
          "name": "stdout",
          "text": [
            "hello\n",
            "hel\n",
            "llo\n"
          ]
        }
      ]
    },
    {
      "cell_type": "code",
      "source": [
        "string3=\"hello\"\n",
        "x=string3.replace(\"lo\",\"hi\")\n",
        "print(x)\n"
      ],
      "metadata": {
        "colab": {
          "base_uri": "https://localhost:8080/"
        },
        "id": "Dg-LsAfG9LPD",
        "outputId": "f26b8fbf-b3a2-4aa8-84af-99df38df8093"
      },
      "execution_count": 34,
      "outputs": [
        {
          "output_type": "stream",
          "name": "stdout",
          "text": [
            "helhi\n"
          ]
        }
      ]
    },
    {
      "cell_type": "code",
      "source": [
        "a=int(input())\n",
        "b=int(input())\n",
        "print(\"1:Addition\")\n",
        "print(\"2:Subtraction\")\n",
        "print(\"3:Multiplication\")\n",
        "print(\"4:Division\")\n",
        "c=int(input())\n",
        "if c==1:\n",
        "  print(a+b)\n",
        "elif c==2:\n",
        "  print(a-b)\n",
        "elif c==3:\n",
        "  print(a*b)\n",
        "elif c==4:\n",
        "  print(a/b)\n"
      ],
      "metadata": {
        "colab": {
          "base_uri": "https://localhost:8080/"
        },
        "id": "0FRGTKLY-TZl",
        "outputId": "4585e1d1-fd7c-47aa-d821-ee78fe0a4ba2"
      },
      "execution_count": 35,
      "outputs": [
        {
          "output_type": "stream",
          "name": "stdout",
          "text": [
            "5\n",
            "6\n",
            "1:Addition\n",
            "2:Subtraction\n",
            "3:Multiplication\n",
            "4:Division\n",
            "3\n",
            "30\n"
          ]
        }
      ]
    },
    {
      "cell_type": "code",
      "source": [
        "import math\n",
        "print(math.pi)"
      ],
      "metadata": {
        "colab": {
          "base_uri": "https://localhost:8080/"
        },
        "id": "IIMT7Nuy_b8j",
        "outputId": "24db2d35-3e41-4ef6-c671-107d910d2b74"
      },
      "execution_count": 36,
      "outputs": [
        {
          "output_type": "stream",
          "name": "stdout",
          "text": [
            "3.141592653589793\n"
          ]
        }
      ]
    },
    {
      "cell_type": "code",
      "source": [
        "r=int(input())\n",
        "print(math.pi*r*r)"
      ],
      "metadata": {
        "colab": {
          "base_uri": "https://localhost:8080/"
        },
        "id": "A5TDu6CE_5IZ",
        "outputId": "68988dc6-c7d1-48d0-ce8b-0e33fc8bfbb5"
      },
      "execution_count": 37,
      "outputs": [
        {
          "output_type": "stream",
          "name": "stdout",
          "text": [
            "4\n",
            "50.26548245743669\n"
          ]
        }
      ]
    },
    {
      "cell_type": "code",
      "source": [
        "g=int(input())\n",
        "fact=1\n",
        "for i in range(1,g+1):\n",
        "  fact=fact*i\n",
        "print(fact)"
      ],
      "metadata": {
        "colab": {
          "base_uri": "https://localhost:8080/"
        },
        "id": "xvn_e6ooAF_p",
        "outputId": "7a889c63-761a-495e-a1bd-89ed2bc776af"
      },
      "execution_count": 39,
      "outputs": [
        {
          "output_type": "stream",
          "name": "stdout",
          "text": [
            "4\n",
            "24\n"
          ]
        }
      ]
    },
    {
      "cell_type": "code",
      "source": [],
      "metadata": {
        "id": "FfTArrReAyZL"
      },
      "execution_count": null,
      "outputs": []
    }
  ]
}