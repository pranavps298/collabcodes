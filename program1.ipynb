{
  "nbformat": 4,
  "nbformat_minor": 0,
  "metadata": {
    "colab": {
      "provenance": [],
      "authorship_tag": "ABX9TyP76ZftIQKGo8QjIRKzaDX/",
      "include_colab_link": true
    },
    "kernelspec": {
      "name": "python3",
      "display_name": "Python 3"
    },
    "language_info": {
      "name": "python"
    }
  },
  "cells": [
    {
      "cell_type": "markdown",
      "metadata": {
        "id": "view-in-github",
        "colab_type": "text"
      },
      "source": [
        "<a href=\"https://colab.research.google.com/github/pranavps298/collabcodes/blob/main/program1.ipynb\" target=\"_parent\"><img src=\"https://colab.research.google.com/assets/colab-badge.svg\" alt=\"Open In Colab\"/></a>"
      ]
    },
    {
      "cell_type": "code",
      "execution_count": 1,
      "metadata": {
        "colab": {
          "base_uri": "https://localhost:8080/"
        },
        "id": "UAHmbPnRMWfl",
        "outputId": "e1f34c87-6ce2-4aeb-dcaa-60edc7b445eb"
      },
      "outputs": [
        {
          "output_type": "stream",
          "name": "stdout",
          "text": [
            "Fri Jul 12 04:28:02 2024\n"
          ]
        }
      ],
      "source": [
        "import time\n",
        "print(time.ctime())"
      ]
    },
    {
      "cell_type": "code",
      "source": [
        "def simple_interest(p,t,r):\n",
        "  print(\"The principal is\",p )\n",
        "  print(\"The time period is\",t)\n",
        "  print(\"The rate of interest is\",r)\n",
        "\n",
        "  si=(p*t*r)/100\n",
        "  print(\"the simple interest is\",si)"
      ],
      "metadata": {
        "id": "JarcuvkcMn86"
      },
      "execution_count": 2,
      "outputs": []
    },
    {
      "cell_type": "code",
      "source": [
        "simple_interest(8,6,8)"
      ],
      "metadata": {
        "colab": {
          "base_uri": "https://localhost:8080/"
        },
        "id": "rxZhlY0yObbU",
        "outputId": "445f16a9-bc54-47fc-d45c-7dab086ee3c0"
      },
      "execution_count": 3,
      "outputs": [
        {
          "output_type": "stream",
          "name": "stdout",
          "text": [
            "The principal is 8\n",
            "The time period is 6\n",
            "The rate of interest is 8\n",
            "the simple interest is 3.84\n"
          ]
        }
      ]
    },
    {
      "cell_type": "code",
      "source": [],
      "metadata": {
        "id": "JrVXF7KHMsSl"
      },
      "execution_count": null,
      "outputs": []
    }
  ]
}